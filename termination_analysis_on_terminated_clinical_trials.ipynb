{
 "cells": [
  {
   "cell_type": "markdown",
   "metadata": {
    "collapsed": true
   },
   "source": [
    "# Termination Analysis On Terminated Clinical Trails"
   ]
  },
  {
   "cell_type": "code",
   "execution_count": 1,
   "metadata": {
    "collapsed": true
   },
   "outputs": [],
   "source": [
    "import pandas as pd\n",
    "import numpy as np\n",
    "from bs4 import BeautifulSoup\n",
    "import requests\n",
    "from time import time\n",
    "from matplotlib import pyplot as plt\n",
    "%matplotlib inline\n",
    "from nltk.tokenize import word_tokenize,RegexpTokenizer\n",
    "from nltk.corpus import stopwords\n",
    "from nltk.stem import WordNetLemmatizer\n",
    "import string\n",
    "from nltk import FreqDist\n",
    "from nltk.util import ngrams\n",
    "from nltk.tag import pos_tag\n",
    "import seaborn as sns"
   ]
  },
  {
   "cell_type": "code",
   "execution_count": 6,
   "metadata": {
    "collapsed": true
   },
   "outputs": [],
   "source": [
    "dataset = pd.read_csv(\"terminated_trials.csv\")"
   ]
  },
  {
   "cell_type": "code",
   "execution_count": 4,
   "metadata": {},
   "outputs": [
    {
     "data": {
      "text/html": [
       "<div>\n",
       "<style scoped>\n",
       "    .dataframe tbody tr th:only-of-type {\n",
       "        vertical-align: middle;\n",
       "    }\n",
       "\n",
       "    .dataframe tbody tr th {\n",
       "        vertical-align: top;\n",
       "    }\n",
       "\n",
       "    .dataframe thead th {\n",
       "        text-align: right;\n",
       "    }\n",
       "</style>\n",
       "<table border=\"1\" class=\"dataframe\">\n",
       "  <thead>\n",
       "    <tr style=\"text-align: right;\">\n",
       "      <th></th>\n",
       "      <th>Rank</th>\n",
       "      <th>NCT Number</th>\n",
       "      <th>Title</th>\n",
       "      <th>Acronym</th>\n",
       "      <th>Recruitment</th>\n",
       "      <th>Study Results</th>\n",
       "      <th>Conditions</th>\n",
       "      <th>Interventions</th>\n",
       "      <th>Outcome Measures</th>\n",
       "      <th>Sponsor/Collaborators</th>\n",
       "      <th>...</th>\n",
       "      <th>Completion Date</th>\n",
       "      <th>Last Verified</th>\n",
       "      <th>First Submitted</th>\n",
       "      <th>First Posted</th>\n",
       "      <th>Results First Submitted</th>\n",
       "      <th>Results First Posted</th>\n",
       "      <th>Last Update Submitted</th>\n",
       "      <th>Last Update Posted</th>\n",
       "      <th>Locations</th>\n",
       "      <th>URL</th>\n",
       "    </tr>\n",
       "  </thead>\n",
       "  <tbody>\n",
       "    <tr>\n",
       "      <th>0</th>\n",
       "      <td>1</td>\n",
       "      <td>NCT03427073</td>\n",
       "      <td>Dose-escalation Study of ALM201 in Patients Wi...</td>\n",
       "      <td>NaN</td>\n",
       "      <td>Terminated</td>\n",
       "      <td>No Results Available</td>\n",
       "      <td>Solid Tumors|Ovarian Cancer</td>\n",
       "      <td>Drug: ALM201</td>\n",
       "      <td>Characterization of the safety and tolerabilit...</td>\n",
       "      <td>Almac Discovery</td>\n",
       "      <td>...</td>\n",
       "      <td>March 13, 2017</td>\n",
       "      <td>February 2018</td>\n",
       "      <td>March 5, 2015</td>\n",
       "      <td>February 9, 2018</td>\n",
       "      <td>NaN</td>\n",
       "      <td>NaN</td>\n",
       "      <td>February 2, 2018</td>\n",
       "      <td>February 9, 2018</td>\n",
       "      <td>Centre for Cancer Research and Cell Biology, Q...</td>\n",
       "      <td>https://ClinicalTrials.gov/show/NCT03427073</td>\n",
       "    </tr>\n",
       "    <tr>\n",
       "      <th>1</th>\n",
       "      <td>2</td>\n",
       "      <td>NCT03411460</td>\n",
       "      <td>Satisfaction of Hospitalized Diabetic Patients...</td>\n",
       "      <td>GLUCO FLASH</td>\n",
       "      <td>Terminated</td>\n",
       "      <td>No Results Available</td>\n",
       "      <td>Insulin-Dependent Diabetes</td>\n",
       "      <td>Device: FreeStyle Libre™ system|Procedure: Fin...</td>\n",
       "      <td>Satisfaction of patient-determined hospital ca...</td>\n",
       "      <td>Centre Hospitalier Universitaire de Nīmes</td>\n",
       "      <td>...</td>\n",
       "      <td>August 23, 2017</td>\n",
       "      <td>January 2017</td>\n",
       "      <td>June 16, 2017</td>\n",
       "      <td>January 26, 2018</td>\n",
       "      <td>NaN</td>\n",
       "      <td>NaN</td>\n",
       "      <td>January 25, 2018</td>\n",
       "      <td>January 26, 2018</td>\n",
       "      <td>CHU Nimes, Nîmes, France</td>\n",
       "      <td>https://ClinicalTrials.gov/show/NCT03411460</td>\n",
       "    </tr>\n",
       "    <tr>\n",
       "      <th>2</th>\n",
       "      <td>3</td>\n",
       "      <td>NCT03411447</td>\n",
       "      <td>Impact of Early Enteral vs. Parenteral Nutriti...</td>\n",
       "      <td>NaN</td>\n",
       "      <td>Terminated</td>\n",
       "      <td>No Results Available</td>\n",
       "      <td>Acute Respiratory Failure|Shock</td>\n",
       "      <td>Other: Parenteral nutrition|Other: Enteral nut...</td>\n",
       "      <td>proportion of patients with abundant microaspi...</td>\n",
       "      <td>Centre Hospitalier Departemental Vendee|Minist...</td>\n",
       "      <td>...</td>\n",
       "      <td>July 7, 2015</td>\n",
       "      <td>January 2018</td>\n",
       "      <td>July 18, 2017</td>\n",
       "      <td>January 26, 2018</td>\n",
       "      <td>NaN</td>\n",
       "      <td>NaN</td>\n",
       "      <td>January 25, 2018</td>\n",
       "      <td>January 26, 2018</td>\n",
       "      <td>CHU Amiens, Amiens, France|Centre hospitalier ...</td>\n",
       "      <td>https://ClinicalTrials.gov/show/NCT03411447</td>\n",
       "    </tr>\n",
       "  </tbody>\n",
       "</table>\n",
       "<p>3 rows × 30 columns</p>\n",
       "</div>"
      ],
      "text/plain": [
       "   Rank   NCT Number                                              Title  \\\n",
       "0     1  NCT03427073  Dose-escalation Study of ALM201 in Patients Wi...   \n",
       "1     2  NCT03411460  Satisfaction of Hospitalized Diabetic Patients...   \n",
       "2     3  NCT03411447  Impact of Early Enteral vs. Parenteral Nutriti...   \n",
       "\n",
       "       Acronym Recruitment         Study Results  \\\n",
       "0          NaN  Terminated  No Results Available   \n",
       "1  GLUCO FLASH  Terminated  No Results Available   \n",
       "2          NaN  Terminated  No Results Available   \n",
       "\n",
       "                        Conditions  \\\n",
       "0      Solid Tumors|Ovarian Cancer   \n",
       "1       Insulin-Dependent Diabetes   \n",
       "2  Acute Respiratory Failure|Shock   \n",
       "\n",
       "                                       Interventions  \\\n",
       "0                                       Drug: ALM201   \n",
       "1  Device: FreeStyle Libre™ system|Procedure: Fin...   \n",
       "2  Other: Parenteral nutrition|Other: Enteral nut...   \n",
       "\n",
       "                                    Outcome Measures  \\\n",
       "0  Characterization of the safety and tolerabilit...   \n",
       "1  Satisfaction of patient-determined hospital ca...   \n",
       "2  proportion of patients with abundant microaspi...   \n",
       "\n",
       "                               Sponsor/Collaborators  \\\n",
       "0                                    Almac Discovery   \n",
       "1          Centre Hospitalier Universitaire de Nīmes   \n",
       "2  Centre Hospitalier Departemental Vendee|Minist...   \n",
       "\n",
       "                      ...                       Completion Date  \\\n",
       "0                     ...                        March 13, 2017   \n",
       "1                     ...                       August 23, 2017   \n",
       "2                     ...                          July 7, 2015   \n",
       "\n",
       "   Last Verified First Submitted      First Posted Results First Submitted  \\\n",
       "0  February 2018   March 5, 2015  February 9, 2018                     NaN   \n",
       "1   January 2017   June 16, 2017  January 26, 2018                     NaN   \n",
       "2   January 2018   July 18, 2017  January 26, 2018                     NaN   \n",
       "\n",
       "  Results First Posted Last Update Submitted Last Update Posted  \\\n",
       "0                  NaN      February 2, 2018   February 9, 2018   \n",
       "1                  NaN      January 25, 2018   January 26, 2018   \n",
       "2                  NaN      January 25, 2018   January 26, 2018   \n",
       "\n",
       "                                           Locations  \\\n",
       "0  Centre for Cancer Research and Cell Biology, Q...   \n",
       "1                           CHU Nimes, Nîmes, France   \n",
       "2  CHU Amiens, Amiens, France|Centre hospitalier ...   \n",
       "\n",
       "                                           URL  \n",
       "0  https://ClinicalTrials.gov/show/NCT03427073  \n",
       "1  https://ClinicalTrials.gov/show/NCT03411460  \n",
       "2  https://ClinicalTrials.gov/show/NCT03411447  \n",
       "\n",
       "[3 rows x 30 columns]"
      ]
     },
     "execution_count": 4,
     "metadata": {},
     "output_type": "execute_result"
    }
   ],
   "source": [
    "dataset.head(3)"
   ]
  },
  {
   "cell_type": "code",
   "execution_count": 5,
   "metadata": {
    "scrolled": false
   },
   "outputs": [
    {
     "name": "stdout",
     "output_type": "stream",
     "text": [
      "<class 'pandas.core.frame.DataFrame'>\n",
      "RangeIndex: 14992 entries, 0 to 14991\n",
      "Data columns (total 30 columns):\n",
      "Rank                       14992 non-null int64\n",
      "NCT Number                 14992 non-null object\n",
      "Title                      14992 non-null object\n",
      "Acronym                    3253 non-null object\n",
      "Recruitment                14992 non-null object\n",
      "Study Results              14992 non-null object\n",
      "Conditions                 14992 non-null object\n",
      "Interventions              13968 non-null object\n",
      "Outcome Measures           14140 non-null object\n",
      "Sponsor/Collaborators      14992 non-null object\n",
      "Gender                     14978 non-null object\n",
      "Age                        14992 non-null object\n",
      "Phases                     10346 non-null object\n",
      "Enrollment                 14763 non-null float64\n",
      "Funded Bys                 14992 non-null object\n",
      "Study Type                 14992 non-null object\n",
      "Study Designs              14923 non-null object\n",
      "Other IDs                  14991 non-null object\n",
      "Start Date                 14869 non-null object\n",
      "Primary Completion Date    13709 non-null object\n",
      "Completion Date            14043 non-null object\n",
      "Last Verified              14992 non-null object\n",
      "First Submitted            14992 non-null object\n",
      "First Posted               14992 non-null object\n",
      "Results First Submitted    3988 non-null object\n",
      "Results First Posted       3988 non-null object\n",
      "Last Update Submitted      14992 non-null object\n",
      "Last Update Posted         14992 non-null object\n",
      "Locations                  13989 non-null object\n",
      "URL                        14992 non-null object\n",
      "dtypes: float64(1), int64(1), object(28)\n",
      "memory usage: 3.4+ MB\n"
     ]
    }
   ],
   "source": [
    "dataset.info()"
   ]
  },
  {
   "cell_type": "markdown",
   "metadata": {},
   "source": [
    "###### Web Scrapping for \"Why Stopped?\""
   ]
  },
  {
   "cell_type": "markdown",
   "metadata": {},
   "source": [
    "The data used didn't have the column \"Why Stopped\" which was necessary for analysis. So, the column \"Why Stopped\" has been taken from the site \"clinicaltrials.org\" with the help of Web Scrapping with Beautiful Soap."
   ]
  },
  {
   "cell_type": "code",
   "execution_count": null,
   "metadata": {
    "collapsed": true
   },
   "outputs": [],
   "source": [
    "#Here's the code for web scrapping \n",
    "termination_reason = []\n",
    "for i in dataset['URL']:\n",
    "    page = requests.get(i)\n",
    "    soup = BeautifulSoup(page.text, 'html.parser')\n",
    "    why_stop = soup.find_all(class_='not-recruiting-status')\n",
    "    temp=str(why_stop[0])\n",
    "    if temp.find(\"(\")==-1:\n",
    "        reason = np.nan     \n",
    "    else:\n",
    "        reason = temp.split(\"(\")[1].split(\")\")[0]\n",
    "    termination_reason.append(reason)\n",
    "    "
   ]
  },
  {
   "cell_type": "code",
   "execution_count": 102,
   "metadata": {
    "collapsed": true
   },
   "outputs": [],
   "source": [
    "termination_reason = pd.Series(termination_reason)"
   ]
  },
  {
   "cell_type": "code",
   "execution_count": 104,
   "metadata": {
    "collapsed": true
   },
   "outputs": [],
   "source": [
    "dataset[\"Why Stopped\"] = termination_reason"
   ]
  },
  {
   "cell_type": "code",
   "execution_count": 109,
   "metadata": {
    "collapsed": true
   },
   "outputs": [],
   "source": [
    "dataset.to_csv(\"terminated_trials_complete.csv\")"
   ]
  },
  {
   "cell_type": "code",
   "execution_count": 2,
   "metadata": {
    "collapsed": true
   },
   "outputs": [],
   "source": [
    "data=pd.read_csv('terminated_trials_complete.csv')"
   ]
  },
  {
   "cell_type": "code",
   "execution_count": 3,
   "metadata": {},
   "outputs": [
    {
     "name": "stdout",
     "output_type": "stream",
     "text": [
      "<class 'pandas.core.frame.DataFrame'>\n",
      "RangeIndex: 14992 entries, 0 to 14991\n",
      "Data columns (total 32 columns):\n",
      "Unnamed: 0                 14992 non-null int64\n",
      "Rank                       14992 non-null int64\n",
      "NCT Number                 14992 non-null object\n",
      "Title                      14992 non-null object\n",
      "Acronym                    3253 non-null object\n",
      "Recruitment                14992 non-null object\n",
      "Study Results              14992 non-null object\n",
      "Conditions                 14992 non-null object\n",
      "Interventions              13968 non-null object\n",
      "Outcome Measures           14140 non-null object\n",
      "Sponsor/Collaborators      14992 non-null object\n",
      "Gender                     14978 non-null object\n",
      "Age                        14992 non-null object\n",
      "Phases                     10346 non-null object\n",
      "Enrollment                 14763 non-null float64\n",
      "Funded Bys                 14992 non-null object\n",
      "Study Type                 14992 non-null object\n",
      "Study Designs              14923 non-null object\n",
      "Other IDs                  14991 non-null object\n",
      "Start Date                 14869 non-null object\n",
      "Primary Completion Date    13709 non-null object\n",
      "Completion Date            14043 non-null object\n",
      "Last Verified              14992 non-null object\n",
      "First Submitted            14992 non-null object\n",
      "First Posted               14992 non-null object\n",
      "Results First Submitted    3988 non-null object\n",
      "Results First Posted       3988 non-null object\n",
      "Last Update Submitted      14992 non-null object\n",
      "Last Update Posted         14992 non-null object\n",
      "Locations                  13989 non-null object\n",
      "URL                        14992 non-null object\n",
      "Why Stopped                12055 non-null object\n",
      "dtypes: float64(1), int64(2), object(29)\n",
      "memory usage: 3.7+ MB\n"
     ]
    }
   ],
   "source": [
    "data.info()"
   ]
  },
  {
   "cell_type": "markdown",
   "metadata": {},
   "source": [
    "###### Tokenization And Vocabulary Formation"
   ]
  },
  {
   "cell_type": "code",
   "execution_count": 4,
   "metadata": {
    "collapsed": true
   },
   "outputs": [],
   "source": [
    "all_words=[]\n",
    "stop_words=stopwords.words('english')\n",
    "for sent in data['Why Stopped'].str.lower():\n",
    "    if type(sent)!=float:\n",
    "        for word in word_tokenize(sent):\n",
    "            if word not in stop_words:\n",
    "                all_words.append(word)"
   ]
  },
  {
   "cell_type": "code",
   "execution_count": 5,
   "metadata": {
    "collapsed": true
   },
   "outputs": [],
   "source": [
    "dist=FreqDist(all_words)"
   ]
  },
  {
   "cell_type": "markdown",
   "metadata": {},
   "source": [
    "Frequency distribution of all words in the vocabulary"
   ]
  },
  {
   "cell_type": "code",
   "execution_count": 6,
   "metadata": {
    "scrolled": false
   },
   "outputs": [
    {
     "data": {
      "image/png": "[encoded data removed]",
      "text/plain": [
       "<Figure size 432x288 with 1 Axes>"
      ]
     },
     "metadata": {},
     "output_type": "display_data"
    }
   ],
   "source": [
    "dist.plot(20)"
   ]
  },
  {
   "cell_type": "code",
   "execution_count": 7,
   "metadata": {
    "collapsed": true
   },
   "outputs": [],
   "source": [
    "lis=[]\n",
    "for sent in  data['Why Stopped'].str.lower():\n",
    "    if type(sent)!=float:\n",
    "        lis.append(sent)"
   ]
  },
  {
   "cell_type": "markdown",
   "metadata": {},
   "source": [
    "It's important to include the combination of two words because sometimes they also conveys some meaning. Hence, forming bigrams."
   ]
  },
  {
   "cell_type": "code",
   "execution_count": 8,
   "metadata": {
    "collapsed": true
   },
   "outputs": [],
   "source": [
    "n_grams=[]\n",
    "words=[]\n",
    "for sent in lis:\n",
    "    for word in sent.lower().split():\n",
    "        if word not in stop_words:\n",
    "            words.append(word)\n",
    "for tup in ngrams(words,2):\n",
    "        n_grams.append(tup)"
   ]
  },
  {
   "cell_type": "markdown",
   "metadata": {},
   "source": [
    "Here's the frequency of all the bigrams we have formed."
   ]
  },
  {
   "cell_type": "code",
   "execution_count": 9,
   "metadata": {
    "collapsed": true
   },
   "outputs": [],
   "source": [
    "n_grams_dist=FreqDist(n_grams)"
   ]
  },
  {
   "cell_type": "code",
   "execution_count": 10,
   "metadata": {
    "collapsed": true
   },
   "outputs": [],
   "source": [
    "word_pos=[]\n",
    "for sent in lis:\n",
    "    pl=pos_tag(sent.split())\n",
    "    for index in range(len(pl)):\n",
    "        if pl[index][1]=='JJ':\n",
    "            if index<len(pl)-1:\n",
    "                word_pos.append(pl[index][0]+' '+pl[index+1][0])"
   ]
  },
  {
   "cell_type": "markdown",
   "metadata": {},
   "source": [
    "The above code is all about finding out two words combinations from all the sentecnces with the first word necessarily being an adjective. These combinations will be further used to categorize the reasons of termination of clinical trials."
   ]
  },
  {
   "cell_type": "code",
   "execution_count": 11,
   "metadata": {
    "collapsed": true
   },
   "outputs": [],
   "source": [
    "n_grams_dist_jj=FreqDist(word_pos)"
   ]
  },
  {
   "cell_type": "code",
   "execution_count": 12,
   "metadata": {},
   "outputs": [
    {
     "data": {
      "text/plain": [
       "[('due to', 1977),\n",
       " ('slow accrual', 335),\n",
       " ('unable to', 247),\n",
       " ('low accrual', 236),\n",
       " ('interim analysis', 214),\n",
       " ('low enrollment', 188),\n",
       " ('poor accrual', 154),\n",
       " ('slow enrollment', 145),\n",
       " ('detailed description.', 143),\n",
       " ('low recruitment', 141)]"
      ]
     },
     "execution_count": 12,
     "metadata": {},
     "output_type": "execute_result"
    }
   ],
   "source": [
    "n_grams_dist_jj.most_common(10)"
   ]
  },
  {
   "cell_type": "code",
   "execution_count": 13,
   "metadata": {
    "collapsed": true
   },
   "outputs": [],
   "source": [
    "word_pos_3=[]\n",
    "for sent in lis:\n",
    "    words_nostop=[]\n",
    "    for word in sent.split():\n",
    "        if word not in stop_words:\n",
    "             words_nostop.append(word)\n",
    "    pl=pos_tag(words_nostop)\n",
    "    for index in range(len(pl)):\n",
    "        if pl[index][1]=='JJ':\n",
    "            if index<len(pl)-2:\n",
    "                word_pos_3.append(pl[index][0]+' '+pl[index+1][0]+' '+pl[index+2][0])"
   ]
  },
  {
   "cell_type": "markdown",
   "metadata": {},
   "source": [
    "The combinations we extracted earlier were inefficient because of the stopwords.Hence, we will now find out three words combinations from all the sentecnces with the first word necessarily being an adjective and also with stopwords excluded. These combinations will be now used to categorize the reasons of termination of clinical trials."
   ]
  },
  {
   "cell_type": "code",
   "execution_count": 14,
   "metadata": {},
   "outputs": [
    {
     "data": {
      "text/plain": [
       "[('due slow accrual', 59),\n",
       " ('due slow enrollment', 51),\n",
       " ('due low enrollment', 50),\n",
       " ('principal investigator left', 50),\n",
       " ('due poor accrual', 45),\n",
       " ('due slow recruitment', 43),\n",
       " ('due slow accrual.', 42),\n",
       " ('low recruitment rate', 40),\n",
       " ('due low enrollment.', 34),\n",
       " ('interim analysis showed', 34)]"
      ]
     },
     "execution_count": 14,
     "metadata": {},
     "output_type": "execute_result"
    }
   ],
   "source": [
    "n_grams_dist_jj_3=FreqDist(word_pos_3)\n",
    "n_grams_dist_jj_3.most_common(10)"
   ]
  },
  {
   "cell_type": "code",
   "execution_count": 15,
   "metadata": {
    "scrolled": true
   },
   "outputs": [
    {
     "name": "stdout",
     "output_type": "stream",
     "text": [
      "due to potential concerns about liver safety \n",
      "there were no safety or effectiveness concerns. there were concerns about completing enrollment due to a competitive device's potential approval.\n",
      "due to potential concerns about liver safety \n",
      "due to potential concerns about liver safety \n",
      "due to potential concerns about liver safety \n",
      "due to potential concerns about liver safety \n",
      "due to potential concerns about liver safety \n",
      "due to concerns about potential liver safety \n",
      "due to potential concerns about liver safety \n",
      "study terminated due to potential safety concerns in combination with platinum-based therapies\n",
      "futility &amp; potential safety concern \n"
     ]
    }
   ],
   "source": [
    "for sent in lis:\n",
    "    if sent.find('potential')!=-1 and sent.find('concern')!=-1:\n",
    "        print(sent)"
   ]
  },
  {
   "cell_type": "markdown",
   "metadata": {},
   "source": [
    "In order to get better results for creation of generalised reasons, we are applying RegexpTokenizer and will then use the trigrams to form the categories."
   ]
  },
  {
   "cell_type": "code",
   "execution_count": 16,
   "metadata": {
    "collapsed": true
   },
   "outputs": [],
   "source": [
    "r=RegexpTokenizer(r'[A-Za-z]+')"
   ]
  },
  {
   "cell_type": "code",
   "execution_count": 17,
   "metadata": {
    "collapsed": true
   },
   "outputs": [],
   "source": [
    "n_grams=[]\n",
    "words=[]\n",
    "for sent in lis:\n",
    "    for word in r.tokenize(sent.lower()):\n",
    "        if word not in stop_words:\n",
    "            words.append(word)\n",
    "for tup in ngrams(words,3):\n",
    "        n_grams.append(tup)"
   ]
  },
  {
   "cell_type": "code",
   "execution_count": 18,
   "metadata": {},
   "outputs": [
    {
     "data": {
      "text/plain": [
       "[(('study', 'terminated', 'due'), 290),\n",
       " (('see', 'termination', 'reason'), 152),\n",
       " (('termination', 'reason', 'detailed'), 151),\n",
       " (('reason', 'detailed', 'description'), 151),\n",
       " (('study', 'terminated', 'early'), 111),\n",
       " (('study', 'stopped', 'due'), 109),\n",
       " (('due', 'slow', 'accrual'), 103),\n",
       " (('due', 'low', 'enrollment'), 96),\n",
       " (('terminated', 'early', 'due'), 94),\n",
       " (('terminated', 'due', 'low'), 82)]"
      ]
     },
     "execution_count": 18,
     "metadata": {},
     "output_type": "execute_result"
    }
   ],
   "source": [
    "fd=FreqDist(n_grams)\n",
    "fd.most_common(10)"
   ]
  },
  {
   "cell_type": "markdown",
   "metadata": {},
   "source": [
    "Now since we have various generalised reasons for termination trials, all we have to do is to define a dictionary with necessary keywords associated with each keyword(generalised reason) to search for the reasons of termination in the \"Why Stopped\" column."
   ]
  },
  {
   "cell_type": "code",
   "execution_count": 19,
   "metadata": {
    "collapsed": true
   },
   "outputs": [],
   "source": [
    "reasons={\n",
    "    'Insufficient Enrollment':['enrol','recruit','inclusion','candidate','subject','patient','participa'],\n",
    "    'Slow Accural':['accural','accrual'],\n",
    "    'Pricipal Investigator Left':['investigator'],\n",
    "    'Interim Analysis':['interim'],\n",
    "    'Insufficient Efficacy':['effic'],\n",
    "    'Funding':['fund','financ'],\n",
    "    'Safety Concerns':['safe'],\n",
    "    'Company Decision(s)':['benefit','authorit'],\n",
    "    'Due to Intervention':['intervent','injection'],\n",
    "    'Sufficient Data collected':['suffic'],\n",
    "    'Insufficient Data':['insuffic'],\n",
    "    'No Longer relevant':['relevant'],\n",
    "    'Administrative Reasons':['administ','committe','board'],\n",
    "    'Adverse Events':['adverse','toxic','cardi'],\n",
    "    'Business Decision':['business'],\n",
    "    'Clinical Hold':['hold'],\n",
    "    'Strategic Decision':['phase','probab'],\n",
    "    'Key Staff Left':['staff'], \n",
    "    'Other':['descript','acquisition']\n",
    "}"
   ]
  },
  {
   "cell_type": "code",
   "execution_count": 20,
   "metadata": {
    "collapsed": true
   },
   "outputs": [],
   "source": [
    "data_reasons=dict()"
   ]
  },
  {
   "cell_type": "code",
   "execution_count": 21,
   "metadata": {
    "collapsed": true
   },
   "outputs": [],
   "source": [
    "for reason in reasons.keys():\n",
    "    data_reasons[reason]=np.zeros(len(data))"
   ]
  },
  {
   "cell_type": "markdown",
   "metadata": {},
   "source": [
    "Now, we will create a matrix to indicate which trials were stopped due to which reasons."
   ]
  },
  {
   "cell_type": "code",
   "execution_count": 22,
   "metadata": {
    "collapsed": true
   },
   "outputs": [],
   "source": [
    "for index in range(len(data)):\n",
    "    sent=data.loc[index,'Why Stopped']\n",
    "    if type(sent)!=float:\n",
    "        for word in r.tokenize(sent.lower()):\n",
    "            for reason in reasons.keys():\n",
    "                for val in reasons[reason]:\n",
    "                    if word.find(val)==0:\n",
    "                        data_reasons[reason][index]=1"
   ]
  },
  {
   "cell_type": "code",
   "execution_count": 23,
   "metadata": {
    "collapsed": true
   },
   "outputs": [],
   "source": [
    "data_reasons=pd.DataFrame(data_reasons)"
   ]
  },
  {
   "cell_type": "markdown",
   "metadata": {},
   "source": [
    "###### Distribution of count of termination reasons."
   ]
  },
  {
   "cell_type": "code",
   "execution_count": 29,
   "metadata": {},
   "outputs": [
    {
     "data": {
      "text/plain": [
       "<matplotlib.axes._subplots.AxesSubplot at 0x2babdb64518>"
      ]
     },
     "execution_count": 29,
     "metadata": {},
     "output_type": "execute_result"
    },
    {
     "data": {
      "image/png": "[encoded data removed]",
      "text/plain": [
       "<matplotlib.figure.Figure at 0x2babdb644a8>"
      ]
     },
     "metadata": {},
     "output_type": "display_data"
    }
   ],
   "source": [
    "plt.figure(figsize=(10,10))\n",
    "plt.xticks(rotation=90)\n",
    "sns.barplot(data_reasons.sum().index,data_reasons.sum().values)"
   ]
  },
  {
   "cell_type": "markdown",
   "metadata": {},
   "source": [
    "The above reasons can be categorised into more flexible categories."
   ]
  },
  {
   "cell_type": "code",
   "execution_count": 30,
   "metadata": {
    "collapsed": true
   },
   "outputs": [],
   "source": [
    "categories={\n",
    "    'Neutral':['Insufficient Enrollment','Pricipal Investigator Left','Interim Analysis','Insufficient Data',\n",
    "               'No Longer relevant','Clinical Hold','Strategic Decision','Key Staff Left','Other'],\n",
    "    'Possibly Negative':['Slow Accural','Company Decision(s)','Due to Intervention','Administrative Reasons',\n",
    "                        'Funding','Business Decision'],\n",
    "    'Negative Efficacy':['Insufficient Efficacy'],\n",
    "    'Negative Safety':['Adverse Events','Safety Concerns'],\n",
    "    'Positive':['Sufficient Data collected']\n",
    "}"
   ]
  },
  {
   "cell_type": "code",
   "execution_count": 31,
   "metadata": {
    "collapsed": true
   },
   "outputs": [],
   "source": [
    "data_categories=dict()\n",
    "counts=data_reasons.sum()\n",
    "for category in categories.keys():\n",
    "    data_categories[category]=0\n",
    "for category in categories.keys():\n",
    "    c=0;\n",
    "    for val in categories[category]:\n",
    "        c+=counts[val]\n",
    "    data_categories[category]=c"
   ]
  },
  {
   "cell_type": "markdown",
   "metadata": {},
   "source": [
    "###### Distribution of count of reasons responsible for termination of Clinical Trials."
   ]
  },
  {
   "cell_type": "code",
   "execution_count": 33,
   "metadata": {},
   "outputs": [
    {
     "data": {
      "text/plain": [
       "<matplotlib.axes._subplots.AxesSubplot at 0x2bac0cd79b0>"
      ]
     },
     "execution_count": 33,
     "metadata": {},
     "output_type": "execute_result"
    },
    {
     "data": {
      "image/png": "[encoded data removed]",
      "text/plain": [
       "<matplotlib.figure.Figure at 0x2bac6331588>"
      ]
     },
     "metadata": {},
     "output_type": "display_data"
    }
   ],
   "source": [
    "data_categories=pd.Series(data_categories)\n",
    "plt.figure(figsize=(10,10))\n",
    "sns.barplot(data_categories.index,data_categories.values)"
   ]
  }
 ],
 "metadata": {
  "kernelspec": {
   "display_name": "Python 3",
   "language": "python",
   "name": "python3"
  },
  "language_info": {
   "codemirror_mode": {
    "name": "ipython",
    "version": 3
   },
   "file_extension": ".py",
   "mimetype": "text/x-python",
   "name": "python",
   "nbconvert_exporter": "python",
   "pygments_lexer": "ipython3",
   "version": "3.6.4"
  }
 },
 "nbformat": 4,
 "nbformat_minor": 2
}
